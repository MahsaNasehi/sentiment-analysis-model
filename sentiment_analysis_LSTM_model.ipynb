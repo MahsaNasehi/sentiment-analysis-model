{
 "cells": [
  {
   "cell_type": "markdown",
   "metadata": {},
   "source": [
    "## Sentiment Analysis Model\n",
    "This code builds and trains a sentiment analysis model using:\n",
    "\n",
    "1.Embedding Layer: Converts word indices to dense vectors.\n",
    "\n",
    "2.Stacked LSTM Layers: Captures sequential patterns in the text.\n",
    "\n",
    "3.Dense Output Layer: Predicts sentiment (positive/negative).\n",
    "\n",
    "4.Callbacks: Improve training efficiency and prevent overfitting \n",
    "\n",
    "(used to monitor training (e.g., track loss or accuracy),\n",
    "\n",
    "modify training behavior (e.g., stop training early, adjust learning rate),\n",
    "\n",
    "save the model or log progress)."
   ]
  },
  {
   "cell_type": "code",
   "execution_count": 1,
   "metadata": {},
   "outputs": [],
   "source": [
    "import pandas as pd\n",
    "import tensorflow as tf\n",
    "from keras.models import Sequential\n",
    "from keras.layers import Dense, Embedding, LSTM\n",
    "from tensorflow.keras.preprocessing.text import Tokenizer\n",
    "from keras.datasets import imdb\n",
    "from keras.optimizers import Adam\n",
    "from keras.losses import BinaryCrossentropy\n",
    "from keras.preprocessing.sequence import pad_sequences\n",
    "from keras.callbacks import EarlyStopping, ReduceLROnPlateau\n",
    "\n",
    "import matplotlib.pyplot as plt"
   ]
  },
  {
   "cell_type": "code",
   "execution_count": null,
   "metadata": {},
   "outputs": [],
   "source": [
    "# Measure the execution time of the cell\n",
    "# load dataset with a vocab size\n",
    "vocab_size = 2000\n",
    "(X_train, y_train), (X_test, y_test) = imdb.load_data(num_words=vocab_size)"
   ]
  },
  {
   "cell_type": "code",
   "execution_count": 4,
   "metadata": {},
   "outputs": [
    {
     "name": "stdout",
     "output_type": "stream",
     "text": [
      "X_train shape is  (25000, 150)\n",
      "X_test shape is  (25000, 150)\n"
     ]
    }
   ],
   "source": [
    "# Ensures that all sequences (e.g., reviews) have the same length by adding padding (usually 0s)\n",
    "#  to shorter sequences or truncating longer ones because Neural networks require fixed-length inputs,\n",
    "#  so padding ensures uniformity\n",
    "max_len = 150\n",
    "X_train = pad_sequences(X_train, maxlen=max_len, padding='post')\n",
    "X_test = pad_sequences(X_test, maxlen=max_len, padding='post')\n",
    "\n",
    "print(\"X_train shape is \", X_train.shape)\n",
    "print(\"X_test shape is \", X_test.shape)"
   ]
  },
  {
   "cell_type": "code",
   "execution_count": 5,
   "metadata": {},
   "outputs": [
    {
     "data": {
      "text/plain": [
       "array([[  12,   16,   43,  530,   38,   76,   15,   13, 1247,    4,   22,\n",
       "          17,  515,   17,   12,   16,  626,   18,    2,    5,   62,  386,\n",
       "          12,    8,  316,    8,  106,    5,    4,    2,    2,   16,  480,\n",
       "          66,    2,   33,    4,  130,   12,   16,   38,  619,    5,   25,\n",
       "         124,   51,   36,  135,   48,   25, 1415,   33,    6,   22,   12,\n",
       "         215,   28,   77,   52,    5,   14,  407,   16,   82,    2,    8,\n",
       "           4,  107,  117,    2,   15,  256,    4,    2,    7,    2,    5,\n",
       "         723,   36,   71,   43,  530,  476,   26,  400,  317,   46,    7,\n",
       "           4,    2, 1029,   13,  104,   88,    4,  381,   15,  297,   98,\n",
       "          32,    2,   56,   26,  141,    6,  194,    2,   18,    4,  226,\n",
       "          22,   21,  134,  476,   26,  480,    5,  144,   30,    2,   18,\n",
       "          51,   36,   28,  224,   92,   25,  104,    4,  226,   65,   16,\n",
       "          38, 1334,   88,   12,   16,  283,    5,   16,    2,  113,  103,\n",
       "          32,   15,   16,    2,   19,  178,   32]])"
      ]
     },
     "execution_count": 5,
     "metadata": {},
     "output_type": "execute_result"
    }
   ],
   "source": [
    "X_train[:1]"
   ]
  },
  {
   "cell_type": "code",
   "execution_count": null,
   "metadata": {},
   "outputs": [
    {
     "name": "stderr",
     "output_type": "stream",
     "text": [
      "c:\\Users\\TUF GAMING\\AppData\\Local\\Programs\\Python\\Python312\\Lib\\site-packages\\keras\\src\\layers\\core\\embedding.py:90: UserWarning: Argument `input_length` is deprecated. Just remove it.\n",
      "  warnings.warn(\n"
     ]
    }
   ],
   "source": [
    "model = Sequential()\n",
    "# converts each word index into a 100-dimensional vector.\n",
    "model.add(Embedding(input_dim=vocab_size, output_dim=100, input_length=max_len))\n",
    "# (input_dim=vocab_size) specifies the size of the vocabulary,\n",
    "# i.e., the number of unique words in the dataset\n",
    "# The num_words=vocab_size argument ensures that only the top vocab_size most frequent words are included in the dataset\n",
    "# If max_len=150, each input sequence will have exactly 150 elements (word indices)\n",
    "\n",
    "# Sttacked LSTM layers\n",
    "# (return_sequences=True) outputs the full sequence of hidden states (used for stacked LSTMs)\n",
    "model.add(LSTM(units=50, return_sequences=True))\n",
    "model.add(LSTM(units=50, return_sequences=True))\n",
    "model.add(LSTM(units=50)) # last LSTM layer without return-seq\n",
    "\n",
    "model.add(Dense(units=1, activation='sigmoid'))"
   ]
  },
  {
   "cell_type": "code",
   "execution_count": 7,
   "metadata": {},
   "outputs": [],
   "source": [
    "# Configures the model for training by specifying the optimizer, loss function, and metrics\n",
    "model.compile(optimizer='adam', loss='BinaryCrossentropy', metrics=['accuracy'])\n",
    "# metrics=['accuracy']: Tracks accuracy during training"
   ]
  },
  {
   "cell_type": "code",
   "execution_count": 8,
   "metadata": {},
   "outputs": [],
   "source": [
    "# Definre callbacks\n",
    "# Stops training if the monitored metric (e.g., validation loss) does not improve for a specified number of epochs (patience)\n",
    "early_stopping = EarlyStopping(monitor='val_loss', patience=5, restore_best_weights=True)\n",
    "# Reduces the learning rate if the monitored metric (e.g., validation loss) \n",
    "# does not improve for a specified number of epochs (patience). It helps the model\n",
    "# converge better by reducing the learning rate when it gets stuck in a plateau\n",
    "reduce_lr = ReduceLROnPlateau(monitor='val_loss', factor=0.2, patience=3, min_lr=1e-6)\n",
    "\n",
    "epochs = 100\n",
    "batch_size = 64"
   ]
  },
  {
   "cell_type": "code",
   "execution_count": 9,
   "metadata": {},
   "outputs": [
    {
     "name": "stdout",
     "output_type": "stream",
     "text": [
      "Epoch 1/100\n",
      "\u001b[1m391/391\u001b[0m \u001b[32m━━━━━━━━━━━━━━━━━━━━\u001b[0m\u001b[37m\u001b[0m \u001b[1m131s\u001b[0m 315ms/step - accuracy: 0.6364 - loss: 0.6205 - val_accuracy: 0.7000 - val_loss: 0.5889 - learning_rate: 0.0010\n",
      "Epoch 2/100\n",
      "\u001b[1m391/391\u001b[0m \u001b[32m━━━━━━━━━━━━━━━━━━━━\u001b[0m\u001b[37m\u001b[0m \u001b[1m105s\u001b[0m 269ms/step - accuracy: 0.8113 - loss: 0.4443 - val_accuracy: 0.8500 - val_loss: 0.3447 - learning_rate: 0.0010\n",
      "Epoch 3/100\n",
      "\u001b[1m391/391\u001b[0m \u001b[32m━━━━━━━━━━━━━━━━━━━━\u001b[0m\u001b[37m\u001b[0m \u001b[1m100s\u001b[0m 254ms/step - accuracy: 0.8480 - loss: 0.3599 - val_accuracy: 0.9000 - val_loss: 0.2814 - learning_rate: 0.0010\n",
      "Epoch 4/100\n",
      "\u001b[1m391/391\u001b[0m \u001b[32m━━━━━━━━━━━━━━━━━━━━\u001b[0m\u001b[37m\u001b[0m \u001b[1m219s\u001b[0m 561ms/step - accuracy: 0.8795 - loss: 0.2875 - val_accuracy: 0.9300 - val_loss: 0.2586 - learning_rate: 0.0010\n",
      "Epoch 5/100\n",
      "\u001b[1m391/391\u001b[0m \u001b[32m━━━━━━━━━━━━━━━━━━━━\u001b[0m\u001b[37m\u001b[0m \u001b[1m163s\u001b[0m 418ms/step - accuracy: 0.8936 - loss: 0.2710 - val_accuracy: 0.8900 - val_loss: 0.3044 - learning_rate: 0.0010\n",
      "Epoch 6/100\n",
      "\u001b[1m391/391\u001b[0m \u001b[32m━━━━━━━━━━━━━━━━━━━━\u001b[0m\u001b[37m\u001b[0m \u001b[1m121s\u001b[0m 309ms/step - accuracy: 0.9045 - loss: 0.2393 - val_accuracy: 0.8900 - val_loss: 0.2779 - learning_rate: 0.0010\n",
      "Epoch 7/100\n",
      "\u001b[1m391/391\u001b[0m \u001b[32m━━━━━━━━━━━━━━━━━━━━\u001b[0m\u001b[37m\u001b[0m \u001b[1m108s\u001b[0m 277ms/step - accuracy: 0.9121 - loss: 0.2193 - val_accuracy: 0.8900 - val_loss: 0.2781 - learning_rate: 0.0010\n",
      "Epoch 8/100\n",
      "\u001b[1m391/391\u001b[0m \u001b[32m━━━━━━━━━━━━━━━━━━━━\u001b[0m\u001b[37m\u001b[0m \u001b[1m108s\u001b[0m 275ms/step - accuracy: 0.9306 - loss: 0.1895 - val_accuracy: 0.9100 - val_loss: 0.2885 - learning_rate: 2.0000e-04\n",
      "Epoch 9/100\n",
      "\u001b[1m391/391\u001b[0m \u001b[32m━━━━━━━━━━━━━━━━━━━━\u001b[0m\u001b[37m\u001b[0m \u001b[1m109s\u001b[0m 278ms/step - accuracy: 0.9370 - loss: 0.1801 - val_accuracy: 0.9000 - val_loss: 0.3043 - learning_rate: 2.0000e-04\n",
      "CPU times: total: 1h 14min 11s\n",
      "Wall time: 19min 23s\n"
     ]
    }
   ],
   "source": [
    "%%time\n",
    "# The model trains and stores the training history in history\n",
    "history = model.fit(X_train,\n",
    "                    y_train,\n",
    "                    batch_size=batch_size,\n",
    "                    epochs=epochs,\n",
    "                    validation_data=(X_test[:100], y_test[:100]),\n",
    "                    callbacks=[early_stopping,reduce_lr]\n",
    "\n",
    ")"
   ]
  },
  {
   "cell_type": "code",
   "execution_count": 10,
   "metadata": {},
   "outputs": [
    {
     "name": "stdout",
     "output_type": "stream",
     "text": [
      "\u001b[1m782/782\u001b[0m \u001b[32m━━━━━━━━━━━━━━━━━━━━\u001b[0m\u001b[37m\u001b[0m \u001b[1m68s\u001b[0m 87ms/step - accuracy: 0.8696 - loss: 0.3027\n",
      "Test loss: 0.3017\n",
      "Test Accuracy: 0.8690\n"
     ]
    }
   ],
   "source": [
    "loss, accuracy = model.evaluate(X_test, y_test)\n",
    "\n",
    "print(f'Test loss: {loss:.4f}')\n",
    "print(f'Test Accuracy: {accuracy:.4f}')"
   ]
  },
  {
   "cell_type": "code",
   "execution_count": 12,
   "metadata": {},
   "outputs": [
    {
     "data": {
      "image/png": "[encoded data removed]",
      "text/plain": [
       "<Figure size 640x480 with 1 Axes>"
      ]
     },
     "metadata": {},
     "output_type": "display_data"
    }
   ],
   "source": [
    "plt.plot(history.history['loss'], label='Train Loss')\n",
    "plt.plot(history.history['val_loss'], label='Validation Loss')\n",
    "plt.xlabel('Epochs')\n",
    "plt.ylabel('Loss')\n",
    "\n",
    "plt.plot(history.history['accuracy'], label='Train Accuracy')\n",
    "plt.plot(history.history['val_accuracy'], label='Validation Accuracy')\n",
    "plt.xlabel('Epochs')\n",
    "plt.ylabel('Accuuracy')\n",
    "plt.ylim([0,1])\n",
    "plt.legend()\n",
    "plt.grid()"
   ]
  },
  {
   "cell_type": "code",
   "execution_count": null,
   "metadata": {},
   "outputs": [],
   "source": []
  }
 ],
 "metadata": {
  "kernelspec": {
   "display_name": "Python 3",
   "language": "python",
   "name": "python3"
  },
  "language_info": {
   "codemirror_mode": {
    "name": "ipython",
    "version": 3
   },
   "file_extension": ".py",
   "mimetype": "text/x-python",
   "name": "python",
   "nbconvert_exporter": "python",
   "pygments_lexer": "ipython3",
   "version": "3.12.1"
  }
 },
 "nbformat": 4,
 "nbformat_minor": 2
}
